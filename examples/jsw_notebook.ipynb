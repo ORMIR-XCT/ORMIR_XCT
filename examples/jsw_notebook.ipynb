{
 "cells": [
  {
   "cell_type": "markdown",
   "id": "9cee3924",
   "metadata": {},
   "source": [
    "# Joint Space Width Jupyter Notebook\n",
    "\n",
    "Run the Scanco IPL Joint Space Width (JSW) analysis in Python."
   ]
  },
  {
   "cell_type": "code",
   "execution_count": 1,
   "id": "7a02fc93",
   "metadata": {},
   "outputs": [
    {
     "data": {
      "application/vnd.jupyter.widget-view+json": {
       "model_id": "fb021150b18e4c9887fe551aa8e18478",
       "version_major": 2,
       "version_minor": 0
      },
      "text/plain": [
       "Viewer(geometries=[], gradient_opacity=0.22, point_sets=[], rendered_image=<itk.itkImagePython.itkImageSS3; pr…"
      ]
     },
     "metadata": {},
     "output_type": "display_data"
    }
   ],
   "source": [
    "# Imports\n",
    "import os\n",
    "import sys\n",
    "import itk\n",
    "import datetime\n",
    "import numpy as np\n",
    "import SimpleITK as sitk\n",
    "\n",
    "from itkwidgets import compare, view\n",
    "\n",
    "from ormir_xct.util.hildebrand_thickness import calc_structure_thickness_statistics\n",
    "\n",
    "\n",
    "# Define a global variable for erosion and dilation\n",
    "# These values are taken directly from the JSW IPL scripts\n",
    "MISC2 = 27\n",
    "CALC = MISC2 + 8\n",
    "\n",
    "# Set the image path\n",
    "filename = 'J0010803_JOINT.nii'\n",
    "image_dir = os.path.dirname(os.getcwd())\n",
    "image_dir = os.path.join(image_dir, 'tests')\n",
    "image_dir = os.path.join(image_dir, 'data')\n",
    "seg_path = os.path.join(image_dir, filename)\n",
    "\n",
    "# Read the image using SimpleITK\n",
    "seg_image = sitk.ReadImage(seg_path)\n",
    "\n",
    "view(seg_image, rotate=True)"
   ]
  },
  {
   "cell_type": "markdown",
   "id": "6d0be2d3",
   "metadata": {},
   "source": [
    "## Step 1: Image Padding\n",
    "\n",
    "Pad the binary joint image with black space (zeros) to ensure the outside space is greater than the inside (joint) space."
   ]
  },
  {
   "cell_type": "code",
   "execution_count": 2,
   "id": "4d26ce4a",
   "metadata": {},
   "outputs": [],
   "source": [
    "# Image padding only in the X and Y direction\n",
    "pad_image = sitk.ConstantPad(seg_image, [MISC2, MISC2, 0], [MISC2, MISC2, 0], 0)\n",
    "\n",
    "# Use a binary threshold filter to set the segmentation image's value to 60 instead of the default 127\n",
    "# We will use the difference in binary image values when thresholding out the joint space in later steps\n",
    "pad_image = sitk.BinaryThreshold(pad_image, 1, 127, 60, 0)\n",
    "\n",
    "# Write out the padded image\n",
    "output_path = os.path.dirname(seg_path)\n",
    "sitk.WriteImage(pad_image, os.path.join(output_path, 'PAD_IMG.mha'))"
   ]
  },
  {
   "cell_type": "markdown",
   "id": "02ed1e6f",
   "metadata": {},
   "source": [
    "## Step 2: Image Dilation\n",
    "\n",
    "Next we dilate the binary image by the constant **MISC2** that is taken from the original IPL script. Here we use the SimpleITK Ball structural element for dilation which should be similar to the Euclidean metric used in IPL. Once dilation is complete, remove any islands and fill any holes in the dilated mask."
   ]
  },
  {
   "cell_type": "code",
   "execution_count": 3,
   "id": "7d5dca06",
   "metadata": {},
   "outputs": [
    {
     "data": {
      "application/vnd.jupyter.widget-view+json": {
       "model_id": "f73170d282f745bb91fc67ea51f2a204",
       "version_major": 2,
       "version_minor": 0
      },
      "text/plain": [
       "AppLayout(children=(HBox(children=(Label(value='Link:'), Checkbox(value=True, description='cmap'), Checkbox(va…"
      ]
     },
     "metadata": {},
     "output_type": "display_data"
    }
   ],
   "source": [
    "# Binary image dilation using a sphere structural element\n",
    "dilated_image = sitk.BinaryDilate(pad_image, [MISC2, MISC2, MISC2], sitk.sitkBall, 0, 60)\n",
    "\n",
    "# Run connected components, sort the components by size, then take only the largest component\n",
    "connected_image = sitk.ConnectedComponent(dilated_image, True)\n",
    "\n",
    "# Sort the components by size\n",
    "relabel_image = sitk.RelabelComponent(connected_image)\n",
    "\n",
    "# Take only the largest component, set it's value to 127\n",
    "first_component = sitk.BinaryThreshold(relabel_image, 1, 1, 127, 0)\n",
    "filled_holes = sitk.BinaryFillhole(first_component, True, 127)\n",
    "\n",
    "sitk.WriteImage(filled_holes, os.path.join(output_path, 'DILATE.mha'))\n",
    "\n",
    "compare(seg_image, filled_holes, link_cmap=True)"
   ]
  },
  {
   "cell_type": "markdown",
   "id": "d189a979",
   "metadata": {},
   "source": [
    "## Step 3: Image Erosion\n",
    "\n",
    "Next erode the image and set the image's value to 30. Then, add the erosion and dilation images together. Areas with overlap between images will have a value of 90, and the joint space will have a value of 30. We can then use a binary threshold to extract the joint space."
   ]
  },
  {
   "cell_type": "code",
   "execution_count": 4,
   "id": "f6b64dae",
   "metadata": {},
   "outputs": [
    {
     "data": {
      "application/vnd.jupyter.widget-view+json": {
       "model_id": "f2d5d250cddb4e1fa659ea568ca9b395",
       "version_major": 2,
       "version_minor": 0
      },
      "text/plain": [
       "AppLayout(children=(HBox(children=(Label(value='Link:'), Checkbox(value=True, description='cmap'), Checkbox(va…"
      ]
     },
     "metadata": {},
     "output_type": "display_data"
    }
   ],
   "source": [
    "# Erode the image, set the eroded mask's value to 30\n",
    "eroded_image = sitk.BinaryErode(filled_holes, [CALC, CALC, CALC], sitk.sitkBall, 0, 127)\n",
    "eroded_image = sitk.BinaryThreshold(eroded_image, 127, 127, 30, 0)\n",
    "\n",
    "# Add the eroded image (value = 30) and joint image (value = 60) together. \n",
    "# Then threshold out JS image (value = 30)\n",
    "add_image = sitk.Add(eroded_image, pad_image)\n",
    "add_image = sitk.BinaryThreshold(add_image, 30, 30, 127, 0)\n",
    "\n",
    "connected_image = sitk.ConnectedComponent(add_image, False)\n",
    "relabel_image = sitk.RelabelComponent(connected_image)\n",
    "js_mask = sitk.BinaryThreshold(relabel_image, 1, 1, 1, 0)\n",
    "\n",
    "sitk.WriteImage(eroded_image, os.path.join(output_path, 'ERODE.mha'))\n",
    "sitk.WriteImage(js_mask, os.path.join(output_path, 'JS_MASK.mha'))\n",
    "\n",
    "compare(add_image, eroded_image, link_cmap=True)"
   ]
  },
  {
   "cell_type": "markdown",
   "id": "d65ee96d",
   "metadata": {},
   "source": [
    "## Step 4: Compute the JS Parameters\n",
    "\n",
    "Now we will compute JS volume, JSW mean, standard deviation, minimum, maximum, and JS asymmetry (JSW.Max / JSW.Min). A Python implememntation of the sphere fitting algorithm from IPL is used to compute JSW parameters. Algorithm is described in detail here:\n",
    "\n",
    "`T. Hildebrand, P. Rüegsegger. A new method for the model-independent assessment of thickness in three-dimensional images. Journal of Microscopy. 1997.`\n",
    "\n",
    "Outputs are saved to a CSV for comparision with the IPL JS workflow.\n",
    "\n",
    "<img src='notebookImages/sphereFitting.png' width=\"250\" height=\"250\">"
   ]
  },
  {
   "cell_type": "code",
   "execution_count": 5,
   "id": "a8bba1a8",
   "metadata": {},
   "outputs": [
    {
     "data": {
      "application/vnd.jupyter.widget-view+json": {
       "model_id": "d3eb3fc4be4f464f9a628daae0b1f3be",
       "version_major": 2,
       "version_minor": 0
      },
      "text/plain": [
       "Viewer(axes=True, geometries=[], gradient_opacity=0.9, point_sets=[], rendered_image=<itk.itkImagePython.itkIm…"
      ]
     },
     "metadata": {},
     "output_type": "display_data"
    }
   ],
   "source": [
    "# Distance transform + JSW parameters\n",
    "mask = sitk.GetArrayFromImage(js_mask)\n",
    "\n",
    "# Needs to be fixed for masks with JS minimum < 1 voxel\n",
    "# For now, set the minimum JSW value to twice the voel size (0.1214)\n",
    "mean_thickness, mean_thicknessSTD, min_thickness, \\\n",
    "    max_thickness, thickness_map = calc_structure_thickness_statistics(mask, 0.0607, 0.1214)\n",
    "\n",
    "sitk_image = sitk.GetImageFromArray(thickness_map)\n",
    "sitk_image.SetOrigin(js_mask.GetOrigin()) # Set the origin so we can overlay the DT on the joint image\n",
    "sitk_image.SetSpacing(js_mask.GetSpacing())\n",
    "sitk_image.SetDirection(js_mask.GetDirection())\n",
    "sitk.WriteImage(sitk_image, os.path.join(output_path, 'PY_DT.mha'))\n",
    "\n",
    "# Get the volume of the JS\n",
    "shape_stats = sitk.LabelShapeStatisticsImageFilter()\n",
    "shape_stats.ComputeOrientedBoundingBoxOn()\n",
    "shape_stats.Execute(js_mask)\n",
    "\n",
    "jsv = shape_stats.GetPhysicalSize(1)\n",
    "pixel_count = shape_stats.GetNumberOfPixels(1)\n",
    "\n",
    "jsw_header = np.array([['Filename', 'Process Date', \\\n",
    "                        'JSV (mm3)', 'JSW.Mean (mm)', 'JSW.Mean_STD (mm)', \\\n",
    "                        'JSW.Min (mm)', 'JSW.Max (mm)', 'JSW.AS']], dtype=object)\n",
    "\n",
    "jsw_params = np.array([[filename, datetime.datetime.now(), \\\n",
    "                        jsv, mean_thickness, mean_thicknessSTD, min_thickness, \\\n",
    "                        max_thickness, min_thickness/max_thickness]], dtype=object)\n",
    "\n",
    "csv_data = np.vstack([jsw_header, jsw_params])\n",
    "completed_string = csv_data.astype(str)\n",
    "completed_string[1:,:] = csv_data[1:,:].astype('S7')\n",
    "\n",
    "js_output = os.path.join(output_path, 'JSW_OUTPUT.csv')\n",
    "np.savetxt(js_output, completed_string.astype(str), delimiter=',', fmt='%s')\n",
    "\n",
    "view(thickness_map, rotate=True, axes=True, gradient_opacity=0.9)\n"
   ]
  },
  {
   "cell_type": "code",
   "execution_count": null,
   "id": "37ec94a1",
   "metadata": {},
   "outputs": [],
   "source": []
  },
  {
   "cell_type": "code",
   "execution_count": null,
   "id": "28c621cd",
   "metadata": {},
   "outputs": [],
   "source": []
  },
  {
   "cell_type": "code",
   "execution_count": null,
   "id": "53afee74",
   "metadata": {},
   "outputs": [],
   "source": []
  },
  {
   "cell_type": "code",
   "execution_count": null,
   "id": "6af8a7fb",
   "metadata": {},
   "outputs": [],
   "source": []
  }
 ],
 "metadata": {
  "kernelspec": {
   "display_name": "Python 3 (ipykernel)",
   "language": "python",
   "name": "python3"
  },
  "language_info": {
   "codemirror_mode": {
    "name": "ipython",
    "version": 3
   },
   "file_extension": ".py",
   "mimetype": "text/x-python",
   "name": "python",
   "nbconvert_exporter": "python",
   "pygments_lexer": "ipython3",
   "version": "3.8.5"
  },
  "vscode": {
   "interpreter": {
    "hash": "31f2aee4e71d21fbe5cf8b01ff0e069b9275f58929596ceb00d14d90e3e16cd6"
   }
  }
 },
 "nbformat": 4,
 "nbformat_minor": 5
}
