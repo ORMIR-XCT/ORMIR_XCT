{
 "cells": [
  {
   "cell_type": "markdown",
   "id": "58484de9",
   "metadata": {},
   "source": [
    "# Hildebrand Local Thickness Algorithm Notebook\n",
    "\n",
    "Investigate the local thickness of structures in Python."
   ]
  },
  {
   "cell_type": "code",
   "execution_count": 1,
   "id": "5ecb644c",
   "metadata": {},
   "outputs": [],
   "source": [
    "import numpy as np\n",
    "import SimpleITK as sitk\n",
    "from itkwidgets import compare, view\n",
    "from matplotlib import pyplot as plt\n",
    "\n",
    "from ormir_xct.util.hildebrand_thickness import calc_structure_thickness_statistics"
   ]
  },
  {
   "cell_type": "markdown",
   "id": "86bddd4f",
   "metadata": {},
   "source": [
    "Synthetic shape mask functions:"
   ]
  },
  {
   "cell_type": "code",
   "execution_count": 2,
   "id": "f9ccefd6",
   "metadata": {},
   "outputs": [],
   "source": [
    "def create_shape(shape, voxel_widths, thickness, shape_type=\"sphere\"):\n",
    "    center = (\n",
    "        voxel_widths[0] * (shape[0] // 2), \n",
    "        voxel_widths[1] * (shape[1] // 2), \n",
    "        voxel_widths[2] * (shape[2] // 2)\n",
    "    )\n",
    "    x, y, z = np.meshgrid(*[voxel_widths[i] * np.arange(0, shape[i]) for i in range(3)], indexing=\"ij\")\n",
    "    if shape_type == \"sphere\":\n",
    "        mask = (((x-center[0])**2 + (y-center[1])**2 + (z-center[2])**2) < (thickness/2)**2).astype(int)\n",
    "    elif shape_type == \"cylinder\":\n",
    "        mask = (((x-center[0])**2 + (y-center[1])**2) < (thickness/2)**2).astype(int)\n",
    "    elif shape_type == \"plate\":\n",
    "        mask = (np.abs(x-center[0]) < thickness/2).astype(int)\n",
    "    else:\n",
    "        raise ValueError(f\"`shape_type` can be `sphere`, `cylinder`, `plate`; got {shape_type}\")\n",
    "    return mask\n",
    "\n",
    "    "
   ]
  },
  {
   "cell_type": "markdown",
   "id": "40c64774",
   "metadata": {},
   "source": [
    "Generate a synthetic sphere, cylinder, and plate:"
   ]
  },
  {
   "cell_type": "code",
   "execution_count": 3,
   "id": "667a40b5",
   "metadata": {},
   "outputs": [
    {
     "data": {
      "application/vnd.jupyter.widget-view+json": {
       "model_id": "f542a9576e374582949013787a8fecce",
       "version_major": 2,
       "version_minor": 0
      },
      "text/plain": [
       "AppLayout(children=(HBox(children=(Label(value='Link:'), Checkbox(value=True, description='cmap'), Checkbox(va…"
      ]
     },
     "metadata": {},
     "output_type": "display_data"
    }
   ],
   "source": [
    "shape = tuple([50]*3)\n",
    "voxel_widths = tuple([0.0607]*3)\n",
    "radius = 1\n",
    "\n",
    "sphere = create_shape(shape, voxel_widths, radius, shape_type=\"sphere\")\n",
    "cylinder = create_shape(shape, voxel_widths, radius, shape_type=\"cylinder\")\n",
    "plate = create_shape(shape, voxel_widths, radius, shape_type=\"plate\")\n",
    "\n",
    "compare(sphere, cylinder, link_cmap=True, axes=True, rotate=True)"
   ]
  },
  {
   "cell_type": "code",
   "execution_count": 4,
   "id": "0977246a",
   "metadata": {},
   "outputs": [
    {
     "data": {
      "application/vnd.jupyter.widget-view+json": {
       "model_id": "838ca8b4cf934a159c8cd4cbabc41853",
       "version_major": 2,
       "version_minor": 0
      },
      "text/plain": [
       "AppLayout(children=(HBox(children=(Label(value='Link:'), Checkbox(value=True, description='cmap'), Checkbox(va…"
      ]
     },
     "metadata": {},
     "output_type": "display_data"
    }
   ],
   "source": [
    "compare(sphere, plate, link_cmap=True, axes=True, rotate=True)"
   ]
  },
  {
   "cell_type": "markdown",
   "id": "9383b9fa",
   "metadata": {},
   "source": [
    "Check their estimated mean thicknesses:"
   ]
  },
  {
   "cell_type": "code",
   "execution_count": 5,
   "id": "a6255985",
   "metadata": {},
   "outputs": [],
   "source": [
    "sphere_thickness_stats = calc_structure_thickness_statistics(sphere, voxel_widths, 0)\n",
    "cylinder_thickness_stats = calc_structure_thickness_statistics(cylinder, voxel_widths, 0)\n",
    "plate_thickness_stats = calc_structure_thickness_statistics(plate, voxel_widths, 0)"
   ]
  },
  {
   "cell_type": "code",
   "execution_count": 6,
   "id": "23a3f3fd",
   "metadata": {},
   "outputs": [
    {
     "name": "stdout",
     "output_type": "stream",
     "text": [
      "Sphere thickness is 1.001 +/- 0.000\n",
      "Cylinder thickness is 0.953 +/- 0.179\n",
      "Plate thickness is 1.053 +/- 0.129\n"
     ]
    }
   ],
   "source": [
    "print(f\"Sphere thickness is {sphere_thickness_stats[0]:0.3f} +/- {sphere_thickness_stats[1]:0.3f}\")\n",
    "print(f\"Cylinder thickness is {cylinder_thickness_stats[0]:0.3f} +/- {cylinder_thickness_stats[1]:0.3f}\")\n",
    "print(f\"Plate thickness is {plate_thickness_stats[0]:0.3f} +/- {plate_thickness_stats[1]:0.3f}\")"
   ]
  },
  {
   "cell_type": "markdown",
   "id": "b4a59b98",
   "metadata": {},
   "source": [
    "This checks out because we set `radius = 1` when we generated these shapes."
   ]
  },
  {
   "cell_type": "markdown",
   "id": "6ed9be8f",
   "metadata": {},
   "source": [
    "Now we can do a sweep over spheres, cylinders, and plates of various thicknesses to see how well we can estimate the thickness of these shapes at various resolutions."
   ]
  },
  {
   "cell_type": "code",
   "execution_count": 7,
   "id": "ae232e64",
   "metadata": {},
   "outputs": [
    {
     "name": "stdout",
     "output_type": "stream",
     "text": [
      "thickness: 2\n",
      "thickness: 6\n",
      "thickness: 10\n",
      "thickness: 14\n",
      "thickness: 18\n",
      "thickness: 22\n",
      "thickness: 26\n",
      "thickness: 30\n",
      "thickness: 34\n",
      "thickness: 38\n"
     ]
    }
   ],
   "source": [
    "shape = (100, 100, 100)\n",
    "voxel_widths = (1, 1, 1)\n",
    "\n",
    "true_thicknesses = np.arange(2, 40, 4)\n",
    "\n",
    "est_sph_thicknesses = []\n",
    "est_cyl_thicknesses = []\n",
    "est_plt_thicknesses = []\n",
    "\n",
    "for thickness in true_thicknesses:\n",
    "    print(f\"thickness: {thickness}\")\n",
    "    \n",
    "    sphere = create_shape(shape, voxel_widths, thickness, shape_type=\"sphere\")\n",
    "    est_sph_thicknesses.append(calc_structure_thickness_statistics(sphere, voxel_widths, 0)[0])\n",
    "    \n",
    "    cylinder = create_shape(shape, voxel_widths, thickness, shape_type=\"cylinder\")\n",
    "    est_cyl_thicknesses.append(calc_structure_thickness_statistics(cylinder, voxel_widths, 0)[0])\n",
    "    \n",
    "    plate = create_shape(shape, voxel_widths, thickness, shape_type=\"plate\")\n",
    "    est_plt_thicknesses.append(calc_structure_thickness_statistics(plate, voxel_widths, 0)[0])"
   ]
  },
  {
   "cell_type": "code",
   "execution_count": 8,
   "id": "dc5e48e9",
   "metadata": {},
   "outputs": [
    {
     "data": {
      "image/png": "[encoded data removed]",
      "text/plain": [
       "<Figure size 1080x360 with 3 Axes>"
      ]
     },
     "metadata": {
      "needs_background": "light"
     },
     "output_type": "display_data"
    }
   ],
   "source": [
    "max_size = max(shape)//2\n",
    "\n",
    "fig, axs = plt.subplots(1, 3, figsize=(15, 5))\n",
    "\n",
    "axs[0].plot(true_thicknesses, est_sph_thicknesses, \"k-o\")\n",
    "axs[0].plot([0, max_size], [0, max_size], \"r-\")\n",
    "axs[0].grid()\n",
    "\n",
    "axs[0].set_xlabel(\"true sphere radius [vox]\")\n",
    "axs[0].set_ylabel(\"estimated sphere radius [vox]\")\n",
    "\n",
    "axs[1].plot(true_thicknesses, est_cyl_thicknesses, \"k-o\")\n",
    "axs[1].plot([0, max_size], [0, max_size], \"r-\")\n",
    "axs[1].grid()\n",
    "\n",
    "axs[1].set_xlabel(\"true cylinder radius [vox]\")\n",
    "axs[1].set_ylabel(\"estimated cylinder radius [vox]\")\n",
    "\n",
    "axs[2].plot(true_thicknesses, est_plt_thicknesses, \"k-o\")\n",
    "axs[2].plot([0, max_size], [0, max_size], \"r-\", linewidth=2)\n",
    "axs[2].grid()\n",
    "\n",
    "axs[2].set_xlabel(\"true plate thickness [vox]\")\n",
    "axs[2].set_ylabel(\"estimated plate thickness [vox]\")\n",
    "\n",
    "plt.show()"
   ]
  },
  {
   "cell_type": "code",
   "execution_count": null,
   "id": "a2ef1b08",
   "metadata": {},
   "outputs": [],
   "source": []
  }
 ],
 "metadata": {
  "kernelspec": {
   "display_name": "Python 3 (ipykernel)",
   "language": "python",
   "name": "python3"
  },
  "language_info": {
   "codemirror_mode": {
    "name": "ipython",
    "version": 3
   },
   "file_extension": ".py",
   "mimetype": "text/x-python",
   "name": "python",
   "nbconvert_exporter": "python",
   "pygments_lexer": "ipython3",
   "version": "3.8.5"
  }
 },
 "nbformat": 4,
 "nbformat_minor": 5
}
